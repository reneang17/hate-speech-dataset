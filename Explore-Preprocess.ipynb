{
 "cells": [
  {
   "cell_type": "markdown",
   "metadata": {},
   "source": [
    "# hate-speech-dataset\n",
    "\n"
   ]
  },
  {
   "cell_type": "code",
   "execution_count": 74,
   "metadata": {},
   "outputs": [],
   "source": [
    "import pandas as pd\n",
    "import numpy as np"
   ]
  },
  {
   "cell_type": "code",
   "execution_count": 75,
   "metadata": {},
   "outputs": [],
   "source": [
    "data_dir = './data/'"
   ]
  },
  {
   "cell_type": "code",
   "execution_count": 76,
   "metadata": {},
   "outputs": [],
   "source": [
    "df = pd.read_csv(data_dir+'annotations_metadata.csv')"
   ]
  },
  {
   "cell_type": "code",
   "execution_count": 77,
   "metadata": {},
   "outputs": [
    {
     "data": {
      "text/plain": [
       "(0.10928362573099415, 1196)"
      ]
     },
     "execution_count": 77,
     "metadata": {},
     "output_type": "execute_result"
    }
   ],
   "source": [
    "(df.label == 'hate').sum() / len(df) , (df.label == 'hate').sum()"
   ]
  },
  {
   "cell_type": "code",
   "execution_count": 78,
   "metadata": {},
   "outputs": [],
   "source": [
    "import os"
   ]
  },
  {
   "cell_type": "code",
   "execution_count": 94,
   "metadata": {},
   "outputs": [
    {
     "data": {
      "text/plain": [
       "2392"
      ]
     },
     "execution_count": 94,
     "metadata": {},
     "output_type": "execute_result"
    }
   ],
   "source": [
    "sampled_train_list = [i if ('.txt' in i) else 'marker' for i in os.listdir(data_dir+'sampled_train/')]\n",
    "sampled_test_list = [i if ('.txt' in i) else 'marker' for i in os.listdir(data_dir+'sampled_test/')]\n",
    "\n",
    "while 'marker' in sampled_train_list:\n",
    "    sampled_train_list.remove('marker')\n",
    "while 'marker' in sampled_test_list:\n",
    "    sampled_test_list.remove('marker')\n",
    "\n",
    "len(sampled_train_list)+ len(sampled_test_list)"
   ]
  },
  {
   "cell_type": "code",
   "execution_count": 80,
   "metadata": {},
   "outputs": [],
   "source": [
    "df['text'] = df['file_id']"
   ]
  },
  {
   "cell_type": "code",
   "execution_count": 81,
   "metadata": {},
   "outputs": [],
   "source": [
    "def id_file_reader(col):\n",
    "    if (col['file_id']+'.txt') in sampled_train_list:\n",
    "        file = os.path.join(data_dir+'sampled_train/',col['file_id']+'.txt')\n",
    "        with open(file,'r') as f:\n",
    "            return f.read()\n",
    "        \n",
    "    if (col['file_id']+'.txt') in sampled_test_list:\n",
    "        file = os.path.join(data_dir+'sampled_test/',col['file_id']+'.txt')\n",
    "        with open(file,'r') as f:\n",
    "            return f.read()\n",
    "        \n",
    "    else: return False"
   ]
  },
  {
   "cell_type": "code",
   "execution_count": null,
   "metadata": {},
   "outputs": [],
   "source": []
  },
  {
   "cell_type": "code",
   "execution_count": 82,
   "metadata": {},
   "outputs": [],
   "source": [
    "def hate_label(col):\n",
    "    if col['label'] =='hate':\n",
    "        return 1\n",
    "    else:\n",
    "        return 0"
   ]
  },
  {
   "cell_type": "code",
   "execution_count": 83,
   "metadata": {},
   "outputs": [],
   "source": [
    "df['comment_text'] = df[['file_id']].apply(id_file_reader, axis = 1)"
   ]
  },
  {
   "cell_type": "code",
   "execution_count": 84,
   "metadata": {},
   "outputs": [],
   "source": [
    "df_train = df[df.comment_text != False]"
   ]
  },
  {
   "cell_type": "code",
   "execution_count": 85,
   "metadata": {},
   "outputs": [
    {
     "name": "stderr",
     "output_type": "stream",
     "text": [
      "/Users/rene/anaconda3/lib/python3.7/site-packages/ipykernel_launcher.py:1: SettingWithCopyWarning: \n",
      "A value is trying to be set on a copy of a slice from a DataFrame.\n",
      "Try using .loc[row_indexer,col_indexer] = value instead\n",
      "\n",
      "See the caveats in the documentation: http://pandas.pydata.org/pandas-docs/stable/indexing.html#indexing-view-versus-copy\n",
      "  \"\"\"Entry point for launching an IPython kernel.\n"
     ]
    }
   ],
   "source": [
    "df_train['label_int'] = df_train[['label']].apply(hate_label, axis =1 )"
   ]
  },
  {
   "cell_type": "code",
   "execution_count": 86,
   "metadata": {},
   "outputs": [
    {
     "data": {
      "text/html": [
       "<div>\n",
       "<style scoped>\n",
       "    .dataframe tbody tr th:only-of-type {\n",
       "        vertical-align: middle;\n",
       "    }\n",
       "\n",
       "    .dataframe tbody tr th {\n",
       "        vertical-align: top;\n",
       "    }\n",
       "\n",
       "    .dataframe thead th {\n",
       "        text-align: right;\n",
       "    }\n",
       "</style>\n",
       "<table border=\"1\" class=\"dataframe\">\n",
       "  <thead>\n",
       "    <tr style=\"text-align: right;\">\n",
       "      <th></th>\n",
       "      <th>file_id</th>\n",
       "      <th>user_id</th>\n",
       "      <th>subforum_id</th>\n",
       "      <th>num_contexts</th>\n",
       "      <th>label</th>\n",
       "      <th>text</th>\n",
       "      <th>comment_text</th>\n",
       "      <th>label_int</th>\n",
       "    </tr>\n",
       "  </thead>\n",
       "  <tbody>\n",
       "    <tr>\n",
       "      <th>1</th>\n",
       "      <td>12834217_2</td>\n",
       "      <td>572066</td>\n",
       "      <td>1346</td>\n",
       "      <td>0</td>\n",
       "      <td>noHate</td>\n",
       "      <td>12834217_2</td>\n",
       "      <td>In order to help increase the booklets downloa...</td>\n",
       "      <td>0</td>\n",
       "    </tr>\n",
       "    <tr>\n",
       "      <th>3</th>\n",
       "      <td>12834217_4</td>\n",
       "      <td>572066</td>\n",
       "      <td>1346</td>\n",
       "      <td>0</td>\n",
       "      <td>hate</td>\n",
       "      <td>12834217_4</td>\n",
       "      <td>Click below for a FREE download of a colorfull...</td>\n",
       "      <td>1</td>\n",
       "    </tr>\n",
       "  </tbody>\n",
       "</table>\n",
       "</div>"
      ],
      "text/plain": [
       "      file_id  user_id  subforum_id  num_contexts   label        text  \\\n",
       "1  12834217_2   572066         1346             0  noHate  12834217_2   \n",
       "3  12834217_4   572066         1346             0    hate  12834217_4   \n",
       "\n",
       "                                        comment_text  label_int  \n",
       "1  In order to help increase the booklets downloa...          0  \n",
       "3  Click below for a FREE download of a colorfull...          1  "
      ]
     },
     "execution_count": 86,
     "metadata": {},
     "output_type": "execute_result"
    }
   ],
   "source": [
    "df_train.head(2)"
   ]
  },
  {
   "cell_type": "code",
   "execution_count": 87,
   "metadata": {},
   "outputs": [],
   "source": [
    "import re \n",
    "rep_numbers=re.compile(r'\\d+',re.IGNORECASE)\n",
    "rep_special_chars=re.compile(r'[^a-z\\d ]',re.IGNORECASE)\n",
    "rep_special_chars= re.compile(\"[^\\w']|_\") \n",
    "\n",
    "#stemmer = PorterStemmer()\n",
    "#nltk.download(\"stopwords\", quiet=True)\n",
    "\n",
    "def review_to_words(review):\n",
    "    \n",
    "    text=rep_special_chars.sub(' ', review)\n",
    "    \n",
    "    text = rep_numbers.sub('n', text) # substitute all numbers\n",
    "    \n",
    "    \n",
    "    words = text.split() # Split string into words\n",
    "    words = [w for w in words if len(w) == len(w.encode())][:100]  \n",
    "    \n",
    "    return ' '.join(words)"
   ]
  },
  {
   "cell_type": "code",
   "execution_count": 88,
   "metadata": {},
   "outputs": [
    {
     "data": {
      "text/plain": [
       "1        In order to help increase the booklets downloa...\n",
       "3        Click below for a FREE download of a colorfull...\n",
       "10       She may or may not be a Jew but she 's certain...\n",
       "20               I think you should write a book as well .\n",
       "21       I 've always considered teaching as one of the...\n",
       "22       And the sad thing is the white students at tho...\n",
       "23       I guess I 'll just stick to homeschooling my k...\n",
       "31       Their gods often had pale skin and blue eyes b...\n",
       "34       This whole situation starts to become really b...\n",
       "42       Greece need a man like Adolf Hitler and now is...\n",
       "46                         He is a pathetic little chimp .\n",
       "50       com/watch ? v = kBD6Gm6VoDM Then watch 8 min. ...\n",
       "59       Try El Paso Texas Soo much mudd invasion that ...\n",
       "60                          Welcome to the front lines ...\n",
       "62       Here is a video of the event that is worth wat...\n",
       "66       Nice to know that are still a few men out ther...\n",
       "70       I suppose the concept of a male cow and a fema...\n",
       "71                      May they all get mad cow disease .\n",
       "75                           That's all I needed to hear .\n",
       "76                * Unsubscribed * Off to the SA threads .\n",
       "79       I'm sad to find this out right now but I 'm al...\n",
       "84                    Hundreds of people , but no blacks !\n",
       "86       Over and over , you hear about home-schooled k...\n",
       "92       Excellent Article !! * * * * * Why Were n't Th...\n",
       "103                                  The Rest Of The Story\n",
       "104      Nevermind, found the new page Knew it had to b...\n",
       "108      they act as if negros with aids should have th...\n",
       "110                               I hope they all starve .\n",
       "111      No white person should send a single penny or ...\n",
       "112      He's a retarded feral negro ( yes , feral huma...\n",
       "                               ...                        \n",
       "10818    `Interesting' to see someone of the same radio...\n",
       "10820    I 'm beginning to wonder with all your posts d...\n",
       "10822    I think if there are cases of infected people ...\n",
       "10824    The lesbian student will probably find a jew l...\n",
       "10828    Who said the Bible was written by the Jews of ...\n",
       "10829     Only they do and all their brainwash followers .\n",
       "10832    How can the Jews be the same as God 's people ...\n",
       "10838    The word Jew mean a tribe from Jueda , the wor...\n",
       "10842    The only time Jesus is called a Jew , is when ...\n",
       "10845    I'm going to post this one a bit early just in...\n",
       "10849    With that many groups under the same AO , I wo...\n",
       "10850    I eventually came to the conclusion that jews ...\n",
       "10856    And all those holes below 40,000 feet are fill...\n",
       "10876    I'm from Riverside , but my Gf lives in San Di...\n",
       "10877                                                 88 !\n",
       "10881    I 've gone to public school all my life and ha...\n",
       "10892    What I meant was blacks are the oldest living ...\n",
       "10893    Therefore they had to practice slavery before ...\n",
       "10901    ya my little sister doesnt like little black g...\n",
       "10904    You may as well think of it as the blood of an...\n",
       "10908    And yes , they will steal anything from whites...\n",
       "10909    i use it as way to intimidae jew to show them ...\n",
       "10921    Those of the youth hold the future .... just l...\n",
       "10922          Hey, hey now let 's not bury this so fast .\n",
       "10923    Check it out this is disturbing but insightful...\n",
       "10930    I can only pray this babboon mongoloid did n't...\n",
       "10932    Reports that Trump will meet with group seekin...\n",
       "10933    Trudeau is the white Obama as he does n't care...\n",
       "10942    Why White people used to say that sex was a si...\n",
       "10943                                       Now I get it !\n",
       "Name: comment_text, Length: 2392, dtype: object"
      ]
     },
     "execution_count": 88,
     "metadata": {},
     "output_type": "execute_result"
    }
   ],
   "source": [
    "df_train.comment_text"
   ]
  },
  {
   "cell_type": "code",
   "execution_count": 89,
   "metadata": {},
   "outputs": [
    {
     "name": "stderr",
     "output_type": "stream",
     "text": [
      "/Users/rene/anaconda3/lib/python3.7/site-packages/ipykernel_launcher.py:1: SettingWithCopyWarning: \n",
      "A value is trying to be set on a copy of a slice from a DataFrame.\n",
      "Try using .loc[row_indexer,col_indexer] = value instead\n",
      "\n",
      "See the caveats in the documentation: http://pandas.pydata.org/pandas-docs/stable/indexing.html#indexing-view-versus-copy\n",
      "  \"\"\"Entry point for launching an IPython kernel.\n"
     ]
    }
   ],
   "source": [
    "df_train['comment_text'] = df_train.comment_text.apply(review_to_words)"
   ]
  },
  {
   "cell_type": "code",
   "execution_count": 90,
   "metadata": {},
   "outputs": [],
   "source": [
    "dir_train_json= os.path.join(data_dir+'sampled_train/','train.json')\n",
    "df_train.to_json(dir_train_json , orient='records', lines=True)"
   ]
  },
  {
   "cell_type": "code",
   "execution_count": 91,
   "metadata": {},
   "outputs": [],
   "source": [
    "dir_train_csv= os.path.join(data_dir,'train_preprocessed.csv')\n",
    "df_train.to_csv(dir_train_csv, header=True, index=True)"
   ]
  },
  {
   "cell_type": "code",
   "execution_count": 92,
   "metadata": {},
   "outputs": [
    {
     "data": {
      "text/plain": [
       "2392"
      ]
     },
     "execution_count": 92,
     "metadata": {},
     "output_type": "execute_result"
    }
   ],
   "source": [
    "len(df_train)"
   ]
  },
  {
   "cell_type": "code",
   "execution_count": null,
   "metadata": {},
   "outputs": [],
   "source": []
  }
 ],
 "metadata": {
  "kernelspec": {
   "display_name": "Python 3",
   "language": "python",
   "name": "python3"
  },
  "language_info": {
   "codemirror_mode": {
    "name": "ipython",
    "version": 3
   },
   "file_extension": ".py",
   "mimetype": "text/x-python",
   "name": "python",
   "nbconvert_exporter": "python",
   "pygments_lexer": "ipython3",
   "version": "3.7.1"
  }
 },
 "nbformat": 4,
 "nbformat_minor": 2
}
